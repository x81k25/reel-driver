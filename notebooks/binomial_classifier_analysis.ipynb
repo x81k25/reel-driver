{
 "cells": [
  {
   "cell_type": "markdown",
   "id": "9caf8547",
   "metadata": {},
   "source": [
    "# reel driver classifier analysis"
   ]
  },
  {
   "cell_type": "markdown",
   "id": "bec45b90",
   "metadata": {},
   "source": [
    "## import dependancies"
   ]
  },
  {
   "cell_type": "code",
   "execution_count": null,
   "id": "6b5ac944",
   "metadata": {},
   "outputs": [],
   "source": [
    "import json\n",
    "import matplotlib.pyplot as plt\n",
    "from matplotlib.colors import LinearSegmentedColormap, Normalize\n",
    "import numpy as np\n",
    "import pandas as pd\n",
    "import polars as pl\n",
    "import seaborn as sns"
   ]
  },
  {
   "cell_type": "markdown",
   "id": "e8bf7757",
   "metadata": {},
   "source": [
    "## import data"
   ]
  },
  {
   "cell_type": "code",
   "execution_count": null,
   "id": "c3966e95",
   "metadata": {},
   "outputs": [],
   "source": [
    "media = pl.read_parquet(\"../data/media.parquet\")\n",
    "results = pl.read_parquet(\"../data/binomial_classifier_results.parquet\")\n",
    "\n",
    "display(media.head())\n",
    "display(results.head())"
   ]
  },
  {
   "cell_type": "markdown",
   "id": "b6fd4e89",
   "metadata": {},
   "source": [
    "## format data for analysis"
   ]
  },
  {
   "cell_type": "code",
   "execution_count": null,
   "id": "5e106b85",
   "metadata": {},
   "outputs": [],
   "source": [
    "# join tables\n",
    "df = results.join(media, on=\"hash\", how=\"left\")\n",
    "\n",
    "# coerce predcited to boolean \n",
    "df = df.with_columns(pl.col(\"predicted\").cast(pl.Boolean))\n",
    "\n",
    "# create all confusion matrix fields\n",
    "df = df.with_columns(\n",
    "    cm_value = pl.when(pl.col(\"actual\"))\n",
    "        .then(\n",
    "            pl.when(pl.col(\"predicted\"))\n",
    "                .then(pl.lit(\"TP\"))\n",
    "                .otherwise(pl.lit(\"FN\"))\n",
    "        ).otherwise(\n",
    "            pl.when(pl.col(\"predicted\"))\n",
    "                .then(pl.lit(\"FP\"))\n",
    "                .otherwise(pl.lit(\"TN\"))        \n",
    "        )\n",
    ")\n",
    "\n",
    "# select only relevant fields\n",
    "df = df.select(\n",
    "    \"media_title\",\n",
    "    \"predicted\",\n",
    "    \"actual\",\n",
    "    \"cm_value\",\n",
    "    \"probability\",\n",
    "    \"release_year\",\n",
    "    \"rt_score\",\n",
    "    \"metascore\",\n",
    "    \"imdb_rating\",\n",
    "    \"imdb_votes\",\n",
    "    \"original_title\",\n",
    "    \"hash\"\n",
    ")\n",
    "\n",
    "display(df.head())\n",
    "\n",
    "# convert to pandas for compabiltiy \n",
    "pdf = df.to_pandas()"
   ]
  },
  {
   "cell_type": "markdown",
   "id": "b2568775",
   "metadata": {},
   "source": [
    "## visualize results"
   ]
  },
  {
   "cell_type": "code",
   "execution_count": null,
   "id": "46a9b1ca",
   "metadata": {},
   "outputs": [],
   "source": [
    "# distribution of numeric values by prediction label\n",
    "\n",
    "# Create a figure with four subplots side by side\n",
    "fig, axes = plt.subplots(1, 5, figsize=(20, 6))\n",
    "\n",
    "# Define the colors for the classes\n",
    "palette = {False: 'red', True: 'blue'}\n",
    "\n",
    "# plot\n",
    "sns.violinplot(x='predicted', y='rt_score', data=pdf, ax=axes[0], hue='predicted', palette=palette)\n",
    "axes[0].set_title('rt_score by predicted')\n",
    "axes[0].get_legend().remove()\n",
    "\n",
    "sns.violinplot(x='predicted', y='metascore', data=pdf, ax=axes[1], hue='predicted', palette=palette)\n",
    "axes[1].set_title('metascore by predicted')\n",
    "axes[1].get_legend().remove()\n",
    "\n",
    "sns.violinplot(x='predicted', y='imdb_rating', data=pdf, ax=axes[2], hue='predicted', palette=palette)\n",
    "axes[2].set_title('imdb_rating by predicted')\n",
    "axes[2].get_legend().remove()\n",
    "\n",
    "sns.violinplot(x='predicted', y='imdb_votes', data=pdf, ax=axes[3], hue='predicted', palette=palette)\n",
    "axes[3].set_title('log(imdb_votes) by predicted')\n",
    "axes[3].get_legend().remove()\n",
    "axes[3].set_yscale('log')\n",
    "\n",
    "sns.violinplot(x='predicted', y='release_year', data=pdf, ax=axes[4], hue='predicted', palette=palette)\n",
    "axes[4].set_title('release_year by predicted')\n",
    "axes[4].get_legend().remove()\n",
    "\n",
    "\n",
    "# Adjust layout\n",
    "plt.tight_layout()\n",
    "plt.show()"
   ]
  },
  {
   "cell_type": "code",
   "execution_count": null,
   "id": "4703c37f",
   "metadata": {},
   "outputs": [],
   "source": [
    "# correlation matrix\n",
    "corr_df = df.select(\n",
    "    \"probability\",\n",
    "    \"release_year\",\n",
    "    \"rt_score\",\n",
    "    \"metascore\",\n",
    "    \"imdb_rating\",\n",
    "    \"imdb_votes\"\n",
    ").drop_nulls()\n",
    "\n",
    "corr_pdf = corr_df.to_pandas()\n",
    "\n",
    "# Create correlation matrix\n",
    "corr_matrix = corr_pdf.corr()\n",
    "\n",
    "# Create a mask for the upper triangle\n",
    "mask = np.triu(np.ones_like(corr_matrix, dtype=bool))\n",
    "\n",
    "# Set up the matplotlib figure\n",
    "plt.figure(figsize=(12, 6))\n",
    "\n",
    "# Create heatmap\n",
    "sns.heatmap(\n",
    "    corr_matrix,\n",
    "    mask=mask,\n",
    "    annot=True,  # Show correlation values\n",
    "    cmap='Spectral',  # Color scheme\n",
    "    vmin=-1, vmax=1,  # Value range\n",
    "    center=0,  # Center the colormap at 0\n",
    "    square=True,  # Make the plot square-shaped\n",
    "    fmt='.2f',  # Round correlation values to 2 decimal places\n",
    "    linewidths=0.5,  # Width of the lines between cells\n",
    "    cbar_kws={'label': 'correlation coefficient'}\n",
    ")\n",
    "\n",
    "# Rotate x-axis labels for better readability\n",
    "plt.xticks(rotation=45, ha='right')\n",
    "plt.yticks(rotation=0)\n",
    "\n",
    "# Adjust layout to prevent label cutoff\n",
    "plt.tight_layout()\n",
    "\n",
    "# Add title\n",
    "plt.title('correlation matrix', pad=20)\n",
    "\n",
    "# Show the plot\n",
    "plt.show()"
   ]
  },
  {
   "cell_type": "code",
   "execution_count": null,
   "id": "a1f49e5d",
   "metadata": {},
   "outputs": [],
   "source": [
    "# show outliers\n",
    "# note: the conditional format will not render in github\n",
    "false_negatives = df.filter(pl.col(\"cm_value\")==\"FN\").sort(\"probability\").to_pandas()\n",
    "\n",
    "# Create styled table with conditional formatting\n",
    "styled_false_negatives = (false_negatives\n",
    "    .style\n",
    "    .background_gradient(subset=['probability'], cmap='RdYlGn_r')  # Red to Yellow to Green (reversed)\n",
    "    .bar(subset=['probability'], color='#4a90e2', align='mid')  # Add bar charts\n",
    "    .format({'probability': '{:,.0f}', 'probability': '{:.2f}%'})  # Format numbers\n",
    "    .set_caption('false positives')\n",
    ")\n",
    "\n",
    "display(styled_false_negatives)\n",
    "\n",
    "false_positives = df.filter(pl.col(\"cm_value\")==\"FP\").sort(\"probability\", descending=True).to_pandas()\n",
    "\n",
    "# Create styled table with conditional formatting\n",
    "styled_false_positives = (false_positives\n",
    "    .style\n",
    "    .background_gradient(subset=['probability'], cmap='RdYlGn_r')  # Red to Yellow to Green (reversed)\n",
    "    .bar(subset=['probability'], color='#4a90e2', align='mid')  # Add bar charts\n",
    "    .format({'probability': '{:,.0f}', 'probability': '{:.2f}%'})  # Format numbers\n",
    "    .set_caption('false negatives')\n",
    ")\n",
    "\n",
    "display(styled_false_positives)"
   ]
  },
  {
   "cell_type": "code",
   "execution_count": null,
   "id": "25f5055d",
   "metadata": {},
   "outputs": [],
   "source": [
    "# export false positives and false negaties for further investigation\n",
    "false_positives = df.filter(pl.col('cm_value')==\"FP\").sort(\"probability\")\n",
    "\n",
    "with open(\"../data/false_positives.json\", \"w\") as file:\n",
    "    # Convert to records (list of dicts, each representing a row)\n",
    "    records = [row for row in false_positives.iter_rows(named=True)]\n",
    "    json.dump(records, file, indent=4)\n",
    "\n",
    "false_negatives = df.filter(pl.col('cm_value')==\"FN\").sort(\"probability\", descending=True)\n",
    "\n",
    "with open(\"../data/false_negatives.json\", \"w\") as file:\n",
    "    # Convert to records (list of dicts, each representing a row)\n",
    "    records = [row for row in false_negatives.iter_rows(named=True)]\n",
    "    json.dump(records, file, indent=4)\n"
   ]
  },
  {
   "cell_type": "markdown",
   "id": "e5cdd279",
   "metadata": {},
   "source": [
    "### issues discoverd with training data\n",
    "\n",
    "- parsing issue for some titles leading to issues with metadata collection\n",
    "    - investigate parsing issues\n",
    "- some items seems to have properly parsed values for media_title, but still have not succesfully collected metadata\n",
    "    - re-run through OMDB API\n"
   ]
  }
 ],
 "metadata": {
  "kernelspec": {
   "display_name": ".venv",
   "language": "python",
   "name": "python3"
  },
  "language_info": {
   "codemirror_mode": {
    "name": "ipython",
    "version": 3
   },
   "file_extension": ".py",
   "mimetype": "text/x-python",
   "name": "python",
   "nbconvert_exporter": "python",
   "pygments_lexer": "ipython3",
   "version": "3.12.7"
  }
 },
 "nbformat": 4,
 "nbformat_minor": 5
}
