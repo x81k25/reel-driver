{
 "cells": [
  {
   "cell_type": "markdown",
   "id": "9caf8547",
   "metadata": {},
   "source": [
    "# reel driver classifier analysis"
   ]
  },
  {
   "cell_type": "markdown",
   "id": "bec45b90",
   "metadata": {},
   "source": [
    "## import dependancies"
   ]
  },
  {
   "cell_type": "code",
   "execution_count": 1,
   "id": "6b5ac944",
   "metadata": {},
   "outputs": [],
   "source": [
    "import json\n",
    "import matplotlib.pyplot as plt\n",
    "from matplotlib.colors import LinearSegmentedColormap, Normalize\n",
    "import numpy as np\n",
    "import pandas as pd\n",
    "import polars as pl\n",
    "import seaborn as sns"
   ]
  },
  {
   "cell_type": "markdown",
   "id": "e8bf7757",
   "metadata": {},
   "source": [
    "## import data"
   ]
  },
  {
   "cell_type": "code",
   "execution_count": 3,
   "id": "c3966e95",
   "metadata": {},
   "outputs": [
    {
     "data": {
      "text/html": [
       "<div><style>\n",
       ".dataframe > thead > tr,\n",
       ".dataframe > tbody > tr {\n",
       "  text-align: right;\n",
       "  white-space: pre-wrap;\n",
       "}\n",
       "</style>\n",
       "<small>shape: (5, 16)</small><table border=\"1\" class=\"dataframe\"><thead><tr><th>imdb_id</th><th>tmdb_id</th><th>label</th><th>media_type</th><th>media_title</th><th>season</th><th>episode</th><th>release_year</th><th>genre</th><th>language</th><th>rt_score</th><th>metascore</th><th>imdb_rating</th><th>imdb_votes</th><th>created_at</th><th>updated_at</th></tr><tr><td>str</td><td>i64</td><td>cat</td><td>cat</td><td>str</td><td>i16</td><td>i16</td><td>i16</td><td>list[str]</td><td>list[str]</td><td>i16</td><td>i16</td><td>f64</td><td>i64</td><td>datetime[μs, UTC]</td><td>datetime[μs, UTC]</td></tr></thead><tbody><tr><td>&quot;tt0002143&quot;</td><td>130523</td><td>&quot;would_not_watch&quot;</td><td>&quot;movie&quot;</td><td>&quot;Dr. Jekyll and Mr. Hyde&quot;</td><td>null</td><td>null</td><td>1912</td><td>[&quot;Horror&quot;]</td><td>[&quot;xx&quot;, &quot;en&quot;]</td><td>null</td><td>null</td><td>60.0</td><td>817</td><td>2025-05-19 14:46:11.601510 UTC</td><td>2025-05-19 14:46:11.601510 UTC</td></tr><tr><td>&quot;tt0006753&quot;</td><td>200324</td><td>&quot;would_not_watch&quot;</td><td>&quot;movie&quot;</td><td>&quot;The Half-Breed&quot;</td><td>null</td><td>null</td><td>1916</td><td>[&quot;Western&quot;]</td><td>[&quot;xx&quot;, &quot;en&quot;]</td><td>null</td><td>null</td><td>67.0</td><td>219</td><td>2025-05-19 14:46:11.601510 UTC</td><td>2025-05-19 14:46:11.601510 UTC</td></tr><tr><td>&quot;tt0011565&quot;</td><td>27509</td><td>&quot;would_not_watch&quot;</td><td>&quot;movie&quot;</td><td>&quot;The Penalty&quot;</td><td>null</td><td>null</td><td>1920</td><td>[&quot;Crime&quot;, &quot;Drama&quot;, &quot;Thriller&quot;]</td><td>[&quot;xx&quot;, &quot;en&quot;]</td><td>83</td><td>null</td><td>73.0</td><td>2769</td><td>2025-05-19 14:46:11.601510 UTC</td><td>2025-05-19 14:46:11.601510 UTC</td></tr><tr><td>&quot;tt0012136&quot;</td><td>300769</td><td>&quot;would_not_watch&quot;</td><td>&quot;movie&quot;</td><td>&quot;Enchantment&quot;</td><td>null</td><td>null</td><td>1921</td><td>[&quot;Comedy&quot;]</td><td>[&quot;xx&quot;]</td><td>null</td><td>null</td><td>63.0</td><td>323</td><td>2025-05-19 14:46:11.601510 UTC</td><td>2025-05-19 14:46:11.601510 UTC</td></tr><tr><td>&quot;tt0012190&quot;</td><td>31432</td><td>&quot;would_not_watch&quot;</td><td>&quot;movie&quot;</td><td>&quot;The Four Horsemen of the Apoca…</td><td>null</td><td>null</td><td>1921</td><td>[&quot;War&quot;, &quot;Romance&quot;, &quot;Drama&quot;]</td><td>[&quot;en&quot;, &quot;xx&quot;]</td><td>83</td><td>null</td><td>71.0</td><td>3594</td><td>2025-05-19 14:46:11.601510 UTC</td><td>2025-05-19 14:46:11.601510 UTC</td></tr></tbody></table></div>"
      ],
      "text/plain": [
       "shape: (5, 16)\n",
       "┌───────────┬─────────┬────────────┬───────────┬───┬───────────┬───────────┬───────────┬───────────┐\n",
       "│ imdb_id   ┆ tmdb_id ┆ label      ┆ media_typ ┆ … ┆ imdb_rati ┆ imdb_vote ┆ created_a ┆ updated_a │\n",
       "│ ---       ┆ ---     ┆ ---        ┆ e         ┆   ┆ ng        ┆ s         ┆ t         ┆ t         │\n",
       "│ str       ┆ i64     ┆ cat        ┆ ---       ┆   ┆ ---       ┆ ---       ┆ ---       ┆ ---       │\n",
       "│           ┆         ┆            ┆ cat       ┆   ┆ f64       ┆ i64       ┆ datetime[ ┆ datetime[ │\n",
       "│           ┆         ┆            ┆           ┆   ┆           ┆           ┆ μs, UTC]  ┆ μs, UTC]  │\n",
       "╞═══════════╪═════════╪════════════╪═══════════╪═══╪═══════════╪═══════════╪═══════════╪═══════════╡\n",
       "│ tt0002143 ┆ 130523  ┆ would_not_ ┆ movie     ┆ … ┆ 60.0      ┆ 817       ┆ 2025-05-1 ┆ 2025-05-1 │\n",
       "│           ┆         ┆ watch      ┆           ┆   ┆           ┆           ┆ 9 14:46:1 ┆ 9 14:46:1 │\n",
       "│           ┆         ┆            ┆           ┆   ┆           ┆           ┆ 1.601510  ┆ 1.601510  │\n",
       "│           ┆         ┆            ┆           ┆   ┆           ┆           ┆ UTC       ┆ UTC       │\n",
       "│ tt0006753 ┆ 200324  ┆ would_not_ ┆ movie     ┆ … ┆ 67.0      ┆ 219       ┆ 2025-05-1 ┆ 2025-05-1 │\n",
       "│           ┆         ┆ watch      ┆           ┆   ┆           ┆           ┆ 9 14:46:1 ┆ 9 14:46:1 │\n",
       "│           ┆         ┆            ┆           ┆   ┆           ┆           ┆ 1.601510  ┆ 1.601510  │\n",
       "│           ┆         ┆            ┆           ┆   ┆           ┆           ┆ UTC       ┆ UTC       │\n",
       "│ tt0011565 ┆ 27509   ┆ would_not_ ┆ movie     ┆ … ┆ 73.0      ┆ 2769      ┆ 2025-05-1 ┆ 2025-05-1 │\n",
       "│           ┆         ┆ watch      ┆           ┆   ┆           ┆           ┆ 9 14:46:1 ┆ 9 14:46:1 │\n",
       "│           ┆         ┆            ┆           ┆   ┆           ┆           ┆ 1.601510  ┆ 1.601510  │\n",
       "│           ┆         ┆            ┆           ┆   ┆           ┆           ┆ UTC       ┆ UTC       │\n",
       "│ tt0012136 ┆ 300769  ┆ would_not_ ┆ movie     ┆ … ┆ 63.0      ┆ 323       ┆ 2025-05-1 ┆ 2025-05-1 │\n",
       "│           ┆         ┆ watch      ┆           ┆   ┆           ┆           ┆ 9 14:46:1 ┆ 9 14:46:1 │\n",
       "│           ┆         ┆            ┆           ┆   ┆           ┆           ┆ 1.601510  ┆ 1.601510  │\n",
       "│           ┆         ┆            ┆           ┆   ┆           ┆           ┆ UTC       ┆ UTC       │\n",
       "│ tt0012190 ┆ 31432   ┆ would_not_ ┆ movie     ┆ … ┆ 71.0      ┆ 3594      ┆ 2025-05-1 ┆ 2025-05-1 │\n",
       "│           ┆         ┆ watch      ┆           ┆   ┆           ┆           ┆ 9 14:46:1 ┆ 9 14:46:1 │\n",
       "│           ┆         ┆            ┆           ┆   ┆           ┆           ┆ 1.601510  ┆ 1.601510  │\n",
       "│           ┆         ┆            ┆           ┆   ┆           ┆           ┆ UTC       ┆ UTC       │\n",
       "└───────────┴─────────┴────────────┴───────────┴───┴───────────┴───────────┴───────────┴───────────┘"
      ]
     },
     "metadata": {},
     "output_type": "display_data"
    },
    {
     "data": {
      "text/html": [
       "<div><style>\n",
       ".dataframe > thead > tr,\n",
       ".dataframe > tbody > tr {\n",
       "  text-align: right;\n",
       "  white-space: pre-wrap;\n",
       "}\n",
       "</style>\n",
       "<small>shape: (5, 4)</small><table border=\"1\" class=\"dataframe\"><thead><tr><th>actual</th><th>predicted</th><th>probability</th><th>imdb_id</th></tr><tr><td>i32</td><td>i64</td><td>f32</td><td>str</td></tr></thead><tbody><tr><td>0</td><td>0</td><td>0.000026</td><td>&quot;tt0002143&quot;</td></tr><tr><td>0</td><td>0</td><td>0.000228</td><td>&quot;tt0006753&quot;</td></tr><tr><td>0</td><td>0</td><td>0.014118</td><td>&quot;tt0011565&quot;</td></tr><tr><td>0</td><td>0</td><td>0.000087</td><td>&quot;tt0012136&quot;</td></tr><tr><td>0</td><td>0</td><td>0.007678</td><td>&quot;tt0012190&quot;</td></tr></tbody></table></div>"
      ],
      "text/plain": [
       "shape: (5, 4)\n",
       "┌────────┬───────────┬─────────────┬───────────┐\n",
       "│ actual ┆ predicted ┆ probability ┆ imdb_id   │\n",
       "│ ---    ┆ ---       ┆ ---         ┆ ---       │\n",
       "│ i32    ┆ i64       ┆ f32         ┆ str       │\n",
       "╞════════╪═══════════╪═════════════╪═══════════╡\n",
       "│ 0      ┆ 0         ┆ 0.000026    ┆ tt0002143 │\n",
       "│ 0      ┆ 0         ┆ 0.000228    ┆ tt0006753 │\n",
       "│ 0      ┆ 0         ┆ 0.014118    ┆ tt0011565 │\n",
       "│ 0      ┆ 0         ┆ 0.000087    ┆ tt0012136 │\n",
       "│ 0      ┆ 0         ┆ 0.007678    ┆ tt0012190 │\n",
       "└────────┴───────────┴─────────────┴───────────┘"
      ]
     },
     "metadata": {},
     "output_type": "display_data"
    }
   ],
   "source": [
    "training = pl.read_parquet(\"../data/01_training.parquet\")\n",
    "results = pl.read_parquet(\"../data/03_binomial_classifier_results.parquet\")\n",
    "\n",
    "display(training.head())\n",
    "display(results.head())"
   ]
  },
  {
   "cell_type": "markdown",
   "id": "b6fd4e89",
   "metadata": {},
   "source": [
    "## format data for analysis"
   ]
  },
  {
   "cell_type": "code",
   "execution_count": null,
   "id": "5e106b85",
   "metadata": {},
   "outputs": [],
   "source": [
    "# join tables\n",
    "df = results.join(media, on=\"hash\", how=\"left\")\n",
    "\n",
    "# coerce predcited to boolean \n",
    "df = df.with_columns(pl.col(\"predicted\").cast(pl.Boolean))\n",
    "\n",
    "# create all confusion matrix fields\n",
    "df = df.with_columns(\n",
    "    cm_value = pl.when(pl.col(\"actual\"))\n",
    "        .then(\n",
    "            pl.when(pl.col(\"predicted\"))\n",
    "                .then(pl.lit(\"TP\"))\n",
    "                .otherwise(pl.lit(\"FN\"))\n",
    "        ).otherwise(\n",
    "            pl.when(pl.col(\"predicted\"))\n",
    "                .then(pl.lit(\"FP\"))\n",
    "                .otherwise(pl.lit(\"TN\"))        \n",
    "        )\n",
    ")\n",
    "\n",
    "# select only relevant fields\n",
    "df = df.select(\n",
    "    \"media_title\",\n",
    "    \"predicted\",\n",
    "    \"actual\",\n",
    "    \"cm_value\",\n",
    "    \"probability\",\n",
    "    \"release_year\",\n",
    "    \"rt_score\",\n",
    "    \"metascore\",\n",
    "    \"imdb_rating\",\n",
    "    \"imdb_votes\",\n",
    "    \"original_title\",\n",
    "    \"hash\"\n",
    ")\n",
    "\n",
    "display(df.head())\n",
    "\n",
    "# convert to pandas for compabiltiy \n",
    "pdf = df.to_pandas()"
   ]
  },
  {
   "cell_type": "markdown",
   "id": "b2568775",
   "metadata": {},
   "source": [
    "## visualize results"
   ]
  },
  {
   "cell_type": "code",
   "execution_count": null,
   "id": "46a9b1ca",
   "metadata": {},
   "outputs": [],
   "source": [
    "# distribution of numeric values by prediction label\n",
    "\n",
    "# Create a figure with four subplots side by side\n",
    "fig, axes = plt.subplots(1, 5, figsize=(20, 6))\n",
    "\n",
    "# Define the colors for the classes\n",
    "palette = {False: 'red', True: 'blue'}\n",
    "\n",
    "# plot\n",
    "sns.violinplot(x='predicted', y='rt_score', data=pdf, ax=axes[0], hue='predicted', palette=palette)\n",
    "axes[0].set_title('rt_score by predicted')\n",
    "axes[0].get_legend().remove()\n",
    "\n",
    "sns.violinplot(x='predicted', y='metascore', data=pdf, ax=axes[1], hue='predicted', palette=palette)\n",
    "axes[1].set_title('metascore by predicted')\n",
    "axes[1].get_legend().remove()\n",
    "\n",
    "sns.violinplot(x='predicted', y='imdb_rating', data=pdf, ax=axes[2], hue='predicted', palette=palette)\n",
    "axes[2].set_title('imdb_rating by predicted')\n",
    "axes[2].get_legend().remove()\n",
    "\n",
    "sns.violinplot(x='predicted', y='imdb_votes', data=pdf, ax=axes[3], hue='predicted', palette=palette)\n",
    "axes[3].set_title('log(imdb_votes) by predicted')\n",
    "axes[3].get_legend().remove()\n",
    "axes[3].set_yscale('log')\n",
    "\n",
    "sns.violinplot(x='predicted', y='release_year', data=pdf, ax=axes[4], hue='predicted', palette=palette)\n",
    "axes[4].set_title('release_year by predicted')\n",
    "axes[4].get_legend().remove()\n",
    "\n",
    "\n",
    "# Adjust layout\n",
    "plt.tight_layout()\n",
    "plt.show()"
   ]
  },
  {
   "cell_type": "code",
   "execution_count": null,
   "id": "4703c37f",
   "metadata": {},
   "outputs": [],
   "source": [
    "# correlation matrix\n",
    "corr_df = df.select(\n",
    "    \"probability\",\n",
    "    \"release_year\",\n",
    "    \"rt_score\",\n",
    "    \"metascore\",\n",
    "    \"imdb_rating\",\n",
    "    \"imdb_votes\"\n",
    ").drop_nulls()\n",
    "\n",
    "corr_pdf = corr_df.to_pandas()\n",
    "\n",
    "# Create correlation matrix\n",
    "corr_matrix = corr_pdf.corr()\n",
    "\n",
    "# Create a mask for the upper triangle\n",
    "mask = np.triu(np.ones_like(corr_matrix, dtype=bool))\n",
    "\n",
    "# Set up the matplotlib figure\n",
    "plt.figure(figsize=(12, 6))\n",
    "\n",
    "# Create heatmap\n",
    "sns.heatmap(\n",
    "    corr_matrix,\n",
    "    mask=mask,\n",
    "    annot=True,  # Show correlation values\n",
    "    cmap='Spectral',  # Color scheme\n",
    "    vmin=-1, vmax=1,  # Value range\n",
    "    center=0,  # Center the colormap at 0\n",
    "    square=True,  # Make the plot square-shaped\n",
    "    fmt='.2f',  # Round correlation values to 2 decimal places\n",
    "    linewidths=0.5,  # Width of the lines between cells\n",
    "    cbar_kws={'label': 'correlation coefficient'}\n",
    ")\n",
    "\n",
    "# Rotate x-axis labels for better readability\n",
    "plt.xticks(rotation=45, ha='right')\n",
    "plt.yticks(rotation=0)\n",
    "\n",
    "# Adjust layout to prevent label cutoff\n",
    "plt.tight_layout()\n",
    "\n",
    "# Add title\n",
    "plt.title('correlation matrix', pad=20)\n",
    "\n",
    "# Show the plot\n",
    "plt.show()"
   ]
  },
  {
   "cell_type": "code",
   "execution_count": null,
   "id": "a1f49e5d",
   "metadata": {},
   "outputs": [],
   "source": [
    "# show outliers\n",
    "# note: the conditional format will not render in github\n",
    "false_negatives = df.filter(pl.col(\"cm_value\")==\"FN\").sort(\"probability\").to_pandas()\n",
    "\n",
    "# Create styled table with conditional formatting\n",
    "styled_false_negatives = (false_negatives\n",
    "    .style\n",
    "    .background_gradient(subset=['probability'], cmap='RdYlGn_r')  # Red to Yellow to Green (reversed)\n",
    "    .bar(subset=['probability'], color='#4a90e2', align='mid')  # Add bar charts\n",
    "    .format({'probability': '{:,.0f}', 'probability': '{:.2f}%'})  # Format numbers\n",
    "    .set_caption('false positives')\n",
    ")\n",
    "\n",
    "display(styled_false_negatives)\n",
    "\n",
    "false_positives = df.filter(pl.col(\"cm_value\")==\"FP\").sort(\"probability\", descending=True).to_pandas()\n",
    "\n",
    "# Create styled table with conditional formatting\n",
    "styled_false_positives = (false_positives\n",
    "    .style\n",
    "    .background_gradient(subset=['probability'], cmap='RdYlGn_r')  # Red to Yellow to Green (reversed)\n",
    "    .bar(subset=['probability'], color='#4a90e2', align='mid')  # Add bar charts\n",
    "    .format({'probability': '{:,.0f}', 'probability': '{:.2f}%'})  # Format numbers\n",
    "    .set_caption('false negatives')\n",
    ")\n",
    "\n",
    "display(styled_false_positives)"
   ]
  },
  {
   "cell_type": "code",
   "execution_count": null,
   "id": "25f5055d",
   "metadata": {},
   "outputs": [],
   "source": [
    "# export false positives and false negaties for further investigation\n",
    "false_positives = df.filter(pl.col('cm_value')==\"FP\").sort(\"probability\")\n",
    "\n",
    "with open(\"../data/false_positives.json\", \"w\") as file:\n",
    "    # Convert to records (list of dicts, each representing a row)\n",
    "    records = [row for row in false_positives.iter_rows(named=True)]\n",
    "    json.dump(records, file, indent=4)\n",
    "\n",
    "false_negatives = df.filter(pl.col('cm_value')==\"FN\").sort(\"probability\", descending=True)\n",
    "\n",
    "with open(\"../data/false_negatives.json\", \"w\") as file:\n",
    "    # Convert to records (list of dicts, each representing a row)\n",
    "    records = [row for row in false_negatives.iter_rows(named=True)]\n",
    "    json.dump(records, file, indent=4)\n"
   ]
  },
  {
   "cell_type": "markdown",
   "id": "e5cdd279",
   "metadata": {},
   "source": [
    "### issues discoverd with training data\n",
    "\n",
    "- parsing issue for some titles leading to issues with metadata collection\n",
    "    - investigate parsing issues\n",
    "- some items seems to have properly parsed values for media_title, but still have not succesfully collected metadata\n",
    "    - re-run through OMDB API\n"
   ]
  }
 ],
 "metadata": {
  "kernelspec": {
   "display_name": ".venv",
   "language": "python",
   "name": "python3"
  },
  "language_info": {
   "codemirror_mode": {
    "name": "ipython",
    "version": 3
   },
   "file_extension": ".py",
   "mimetype": "text/x-python",
   "name": "python",
   "nbconvert_exporter": "python",
   "pygments_lexer": "ipython3",
   "version": "3.12.7"
  }
 },
 "nbformat": 4,
 "nbformat_minor": 5
}
